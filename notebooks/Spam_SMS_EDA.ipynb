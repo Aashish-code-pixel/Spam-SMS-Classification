import pandas as pd
import seaborn as sns
import matplotlib.pyplot as plt
from wordcloud import WordCloud

# Load cleaned dataset
df = pd.read_csv("../data/cleaned_data.csv")

# Class distribution
sns.countplot(x="label", data=df)
plt.title("Spam vs. Non-Spam SMS Distribution")
plt.savefig("../reports/class_distribution.png")
plt.show()

# Generate word cloud for spam messages
spam_text = " ".join(df[df["label"] == "spam"]["cleaned_text"])
wordcloud = WordCloud(width=800, height=400, background_color='white').generate(spam_text)
plt.figure(figsize=(10, 6))
plt.imshow(wordcloud, interpolation="bilinear")
plt.axis("off")
plt.savefig("../reports/wordcloud_spam.png")
plt.show()

# Generate word cloud for non-spam messages
ham_text = " ".join(df[df["label"] == "ham"]["cleaned_text"])
wordcloud = WordCloud(width=800, height=400, background_color='white').generate(ham_text)
plt.figure(figsize=(10, 6))
plt.imshow(wordcloud, interpolation="bilinear")
plt.axis("off")
plt.savefig("../reports/wordcloud_ham.png")
plt.show()
